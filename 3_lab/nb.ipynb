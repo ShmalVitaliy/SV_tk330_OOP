{
  "metadata": {
    "kernelspec": {
      "name": "python",
      "display_name": "Python (Pyodide)",
      "language": "python"
    },
    "language_info": {
      "codemirror_mode": {
        "name": "python",
        "version": 3
      },
      "file_extension": ".py",
      "mimetype": "text/x-python",
      "name": "python",
      "nbconvert_exporter": "python",
      "pygments_lexer": "ipython3",
      "version": "3.8"
    }
  },
  "nbformat_minor": 4,
  "nbformat": 4,
  "cells": [
    {
      "cell_type": "markdown",
      "source": "### Робота з класом",
      "metadata": {}
    },
    {
      "cell_type": "code",
      "source": "class MyName:\n    \"\"\"Опис класу / Документація\n    \"\"\"\n    total_names = 0  # Class Variable\n\n    def __init__(self, name=None) -> None:\n        self.name = name if name is not None else self.anonymous_user().name  # Class attributes / Instance variables\n        MyName.total_names += 1  # modify class variable\n        self.my_id = self.total_names\n\n    @property\n    def whoami(self):\n        \"\"\"Class property\n        return: повертаємо імя \n        \"\"\"\n        return f\"My name is {self.name}\"\n\n    @property\n    def my_email(self) -> str:\n        \"\"\"Class property\n        return: повертаємо емейл\n        \"\"\"\n        return self.create_email()\n\n    def create_email(self) -> str:\n        \"\"\"Instance method\n        \"\"\"\n        return f\"{self.name}@itcollege.lviv.ua\"\n\n    @classmethod\n    def anonymous_user(cls):\n        \"\"\"Class method\n        \"\"\"\n        return cls(\"Anonymous\")\n\n    @staticmethod\n    def say_hello(message=\"Привіт це я пайтон\"):\n        \"\"\"Static method\n        \"\"\"\n        return f\"You say: {message}\"\n\n    def count_letters(self):\n        \"\"\"Instance method\n        Порахує кількість букв у імені\n        \"\"\"\n        return len(self.name)\n\nprint(\"Let's Start!\")\n\nnames = (\"Bohdan\", \"Marta\", None, \"Vitaliy\")\nall_names = {name: MyName(name) for name in names}\n\nfor name, me in all_names.items():\n    print(f\"\"\"{\">*<\"*20}\nThis is object: {me} \nThis is object attribute: {me.name} / {me.my_id}\nThis is {type(MyName.whoami)}: {me.whoami} / {me.my_email}\nThis is {type(me.create_email)} call: {me.create_email()}\nThis is static {type(MyName.say_hello)} with defaults: {me.say_hello()} \nThis is class variable {type(MyName.total_names)}: from class {MyName.total_names} / from object {me.total_names}\nNumber of letters in the name: {me.count_letters()} \n{\"<*>\"*20}\"\"\")\n\nprint(f\"We are done. We create {MyName.total_names} names! ??? Why {MyName.total_names}?\")\n",
      "metadata": {
        "trusted": true
      },
      "outputs": [
        {
          "name": "stdout",
          "text": "Let's Start!\n>*<>*<>*<>*<>*<>*<>*<>*<>*<>*<>*<>*<>*<>*<>*<>*<>*<>*<>*<>*<\nThis is object: <__main__.MyName object at 0x1507718> \nThis is object attribute: Bohdan / 1\nThis is <class 'property'>: My name is Bohdan / Bohdan@itcollege.lviv.ua\nThis is <class 'method'> call: Bohdan@itcollege.lviv.ua\nThis is static <class 'function'> with defaults: You say: Привіт це я пайтон \nThis is class variable <class 'int'>: from class 5 / from object 5\nNumber of letters in the name: 6 \n<*><*><*><*><*><*><*><*><*><*><*><*><*><*><*><*><*><*><*><*>\n>*<>*<>*<>*<>*<>*<>*<>*<>*<>*<>*<>*<>*<>*<>*<>*<>*<>*<>*<>*<\nThis is object: <__main__.MyName object at 0x16f8930> \nThis is object attribute: Marta / 2\nThis is <class 'property'>: My name is Marta / Marta@itcollege.lviv.ua\nThis is <class 'method'> call: Marta@itcollege.lviv.ua\nThis is static <class 'function'> with defaults: You say: Привіт це я пайтон \nThis is class variable <class 'int'>: from class 5 / from object 5\nNumber of letters in the name: 5 \n<*><*><*><*><*><*><*><*><*><*><*><*><*><*><*><*><*><*><*><*>\n>*<>*<>*<>*<>*<>*<>*<>*<>*<>*<>*<>*<>*<>*<>*<>*<>*<>*<>*<>*<\nThis is object: <__main__.MyName object at 0x1803d28> \nThis is object attribute: Anonymous / 4\nThis is <class 'property'>: My name is Anonymous / Anonymous@itcollege.lviv.ua\nThis is <class 'method'> call: Anonymous@itcollege.lviv.ua\nThis is static <class 'function'> with defaults: You say: Привіт це я пайтон \nThis is class variable <class 'int'>: from class 5 / from object 5\nNumber of letters in the name: 9 \n<*><*><*><*><*><*><*><*><*><*><*><*><*><*><*><*><*><*><*><*>\n>*<>*<>*<>*<>*<>*<>*<>*<>*<>*<>*<>*<>*<>*<>*<>*<>*<>*<>*<>*<\nThis is object: <__main__.MyName object at 0x2368030> \nThis is object attribute: Vitaliy / 5\nThis is <class 'property'>: My name is Vitaliy / Vitaliy@itcollege.lviv.ua\nThis is <class 'method'> call: Vitaliy@itcollege.lviv.ua\nThis is static <class 'function'> with defaults: You say: Привіт це я пайтон \nThis is class variable <class 'int'>: from class 5 / from object 5\nNumber of letters in the name: 7 \n<*><*><*><*><*><*><*><*><*><*><*><*><*><*><*><*><*><*><*><*>\nWe are done. We create 5 names! ??? Why 5?\n",
          "output_type": "stream"
        }
      ],
      "execution_count": 2
    },
    {
      "cell_type": "code",
      "source": "",
      "metadata": {
        "trusted": true
      },
      "outputs": [],
      "execution_count": null
    }
  ]
}