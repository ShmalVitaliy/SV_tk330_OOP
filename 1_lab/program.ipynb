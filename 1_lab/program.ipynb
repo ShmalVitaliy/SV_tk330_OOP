{
  "metadata": {
    "kernelspec": {
      "name": "python",
      "display_name": "Python (Pyodide)",
      "language": "python"
    },
    "language_info": {
      "codemirror_mode": {
        "name": "python",
        "version": 3
      },
      "file_extension": ".py",
      "mimetype": "text/x-python",
      "name": "python",
      "nbconvert_exporter": "python",
      "pygments_lexer": "ipython3",
      "version": "3.8"
    }
  },
  "nbformat_minor": 4,
  "nbformat": 4,
  "cells": [
    {
      "cell_type": "markdown",
      "source": "### Перша програма",
      "metadata": {}
    },
    {
      "cell_type": "code",
      "source": "from datetime import datetime\nname = \"Vitaliy\"\nlocation = \"Lviv\"\n\nprint(f\"{name} start programming at {datetime.now()}. {location} is the best city!\")",
      "metadata": {
        "trusted": true
      },
      "outputs": [
        {
          "name": "stdout",
          "text": "Vitaliy start programming at 2024-01-19 19:50:54.003000. Lviv is the best city!\n",
          "output_type": "stream"
        }
      ],
      "execution_count": 2
    },
    {
      "cell_type": "markdown",
      "source": "- Спершу ми імпортуємо бібліотеки, потім встановлюєм змінні і виводимо команду",
      "metadata": {}
    },
    {
      "cell_type": "markdown",
      "source": "### Програмa від AI",
      "metadata": {}
    },
    {
      "cell_type": "code",
      "source": "# Задаємо довжину і ширину прямокутника\nдовжина = 8\nширина = 5\n\n# Обчислюємо площу\nплоща = довжина * ширина\n\n# Виводимо результат\nprint(f\"Площа прямокутника з довжиною {довжина} і шириною {ширина} дорівнює {площа}\")\n",
      "metadata": {
        "trusted": true
      },
      "outputs": [
        {
          "name": "stdout",
          "text": "Площа прямокутника з довжиною 8 і шириною 5 дорівнює 40\n",
          "output_type": "stream"
        }
      ],
      "execution_count": 3
    },
    {
      "cell_type": "code",
      "source": "",
      "metadata": {
        "trusted": true
      },
      "outputs": [],
      "execution_count": null
    }
  ]
}