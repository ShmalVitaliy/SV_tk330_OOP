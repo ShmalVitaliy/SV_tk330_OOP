{
  "metadata": {
    "kernelspec": {
      "name": "python",
      "display_name": "Python (Pyodide)",
      "language": "python"
    },
    "language_info": {
      "codemirror_mode": {
        "name": "python",
        "version": 3
      },
      "file_extension": ".py",
      "mimetype": "text/x-python",
      "name": "python",
      "nbconvert_exporter": "python",
      "pygments_lexer": "ipython3",
      "version": "3.8"
    }
  },
  "nbformat_minor": 4,
  "nbformat": 4,
  "cells": [
    {
      "cell_type": "markdown",
      "source": "### Основи роботи з пайтон",
      "metadata": {}
    },
    {
      "cell_type": "code",
      "source": "# Познайомлення з основними типами даних:\ntext_variable = \"Це текстова змінна\"\nnumeric_variable = 42\nlist_variable = [\"елемент1\", 2, 3.14, \"слово\"]\ndictionary_variable = {\"ключ1\": \"значення1\", \"ключ2\": 42}\ntuple_variable = (\"a\", \"b\", \"c\")\nset_variable = {\"ss\"}\n\n# Виведення вбудованих констант:\nprint(\"Значення True: \", True)\nprint(\"Значення False: \", False)\nprint(\"Значення None: \", None)\n\n# Виведення результату роботи вбудованих функцій:\nabs_result = abs(-10.5)\nprint(f\"Абсолютне значення -10.5: {abs_result}\")\nround_result = round(3.14159, 2)\nprint(f\"Округлене значення 3.14159 до 2 знаків: {round_result}\")\n\n# Познайомлення з циклами:\nletters = [\"a\", \"b\", \"c\"]\nfor index, letter in enumerate(letters):\n    print(f\"На позиції {index} знаходиться буква {letter}\")\n\n# Познайомлення з розгалуженнями:\nA = True\nresult = \"A=True\" if A else \"A=False\"\nprint(result)\n\n# Конструкція try->except->finally:\nB = 0\ntry:\n    result = 10 / B\n    print(\"Результат:\", result)\nexcept ZeroDivisionError as e:\n    print(f\"Помилка: {e}\")\nfinally:\n    print(\"Все одно виконається\")\n\n# Python лямбди:\nmultiply = lambda x, y: x * y\nprint(\"Результат множення:\", multiply(3, 4))\ncapitalize = lambda text: text.capitalize()\nprint(\"Результат капіталізації:\", capitalize(\"приклад тексту\"))\n",
      "metadata": {
        "trusted": true
      },
      "outputs": [
        {
          "name": "stdout",
          "text": "Значення True:  True\nЗначення False:  False\nЗначення None:  None\nАбсолютне значення -10.5: 10.5\nОкруглене значення 3.14159 до 2 знаків: 3.14\nНа позиції 0 знаходиться буква a\nНа позиції 1 знаходиться буква b\nНа позиції 2 знаходиться буква c\nA=True\nПомилка: division by zero\nВсе одно виконається\nРезультат множення: 12\nРезультат капіталізації: Приклад тексту\n",
          "output_type": "stream"
        }
      ],
      "execution_count": 1
    }
  ]
}