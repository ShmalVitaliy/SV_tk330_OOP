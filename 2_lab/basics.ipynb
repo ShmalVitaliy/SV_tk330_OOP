{
  "metadata": {
    "kernelspec": {
      "name": "python",
      "display_name": "Python (Pyodide)",
      "language": "python"
    },
    "language_info": {
      "codemirror_mode": {
        "name": "python",
        "version": 3
      },
      "file_extension": ".py",
      "mimetype": "text/x-python",
      "name": "python",
      "nbconvert_exporter": "python",
      "pygments_lexer": "ipython3",
      "version": "3.8"
    }
  },
  "nbformat_minor": 4,
  "nbformat": 4,
  "cells": [
    {
      "cell_type": "markdown",
      "source": "### Основи роботи з пайтон",
      "metadata": {}
    },
    {
      "cell_type": "code",
      "source": "# Познайомлення з основними типами даних:\ntext_variable = \"Це текстова змінна\"\nnumeric_variable = 42\nlist_variable = [\"елемент1\", 2, 3.14, \"слово\"]\ndictionary_variable = {\"ключ1\": \"значення1\", \"ключ2\": 42}\ntuple_variable = (\"a\", \"b\", \"c\")\nset_variable = {\"ss\"}\n\n# Виведення вбудованих констант:\nprint(\"Значення True: \", True)\nprint(\"Значення False: \", False)\nprint(\"Значення None: \", None)\n\n# Виведення результату роботи вбудованих функцій:\nabs_result = abs(-10.5)\nprint(f\"Абсолютне значення -10.5: {abs_result}\")\nround_result = round(3.14159, 2)\nprint(f\"Округлене значення 3.14159 до 2 знаків: {round_result}\")\n\n# Познайомлення з циклами:\nletters = [\"a\", \"b\", \"c\"]\nfor index, letter in enumerate(letters):\n    print(f\"На позиції {index} знаходиться буква {letter}\")\n\n# Познайомлення з розгалуженнями:\nA = True\nresult = \"A=True\" if A else \"A=False\"\nprint(result)\n\n# Конструкція try->except->finally:\nB = 0\ntry:\n    result = 10 / B\n    print(\"Результат:\", result)\nexcept ZeroDivisionError as e:\n    print(f\"Помилка: {e}\")\nfinally:\n    print(\"Все одно виконається\")\n\n# Python лямбди:\nmultiply = lambda x, y: x * y\nprint(\"Результат множення:\", multiply(3, 4))\ncapitalize = lambda text: text.capitalize()\nprint(\"Результат капіталізації:\", capitalize(\"приклад тексту\"))\n",
      "metadata": {
        "trusted": true
      },
      "outputs": [
        {
          "name": "stdout",
          "text": "Значення True:  True\nЗначення False:  False\nЗначення None:  None\nАбсолютне значення -10.5: 10.5\nОкруглене значення 3.14159 до 2 знаків: 3.14\nНа позиції 0 знаходиться буква a\nНа позиції 1 знаходиться буква b\nНа позиції 2 знаходиться буква c\nA=True\nПомилка: division by zero\nВсе одно виконається\nРезультат множення: 12\nРезультат капіталізації: Приклад тексту\n",
          "output_type": "stream"
        }
      ],
      "execution_count": 1
    },
    {
      "cell_type": "markdown",
      "source": "### Основи роботи з пайтон від чат жпт",
      "metadata": {}
    },
    {
      "cell_type": "code",
      "source": "# Прості змінні та операції\nname = \"ChatGPT\"\nage = 2\nheight = 1.75\nis_programmer = True\n\n# Виведення даних\nprint(f\"Привіт, я {name}!\")\nprint(f\"Мені {age} роки.\")\nprint(f\"Моя висота - {height} метра.\")\nprint(f\"Чи я програміст? {is_programmer}\")\n\n# Робота зі списками (List)\nprogramming_languages = [\"Python\", \"JavaScript\", \"Java\", \"C++\"]\nprint(\"Мої улюблені мови програмування:\", programming_languages)\nprint(\"Кількість мов програмування:\", len(programming_languages))\n\n# Робота зі словниками (Dict)\nperson_info = {\n    \"ім'я\": \"ChatGPT\",\n    \"рік\": 2022,\n    \"мови\": [\"Python\", \"JavaScript\"]\n}\nprint(\"Інформація про мене:\", person_info)\nprint(\"Мої улюблені мови програмування:\", person_info[\"мови\"])\n\n# Використання умов (розгалуження)\nis_weekend = True\nif is_weekend:\n    print(\"Відпочивайте!\")\nelse:\n    print(\"Працюйте або навчайтеся!\")\n\n# Цикли\nfor i in range(3):\n    print(f\"Це ітерація номер {i + 1}\")\n\n# Функції\ndef greet(name):\n    return f\"Привіт, {name}!\"\n\nresult = greet(\"Користувач\")\nprint(result)\n",
      "metadata": {
        "trusted": true
      },
      "outputs": [
        {
          "name": "stdout",
          "text": "Привіт, я ChatGPT!\nМені 2 роки.\nМоя висота - 1.75 метра.\nЧи я програміст? True\nМої улюблені мови програмування: ['Python', 'JavaScript', 'Java', 'C++']\nКількість мов програмування: 4\nІнформація про мене: {\"ім'я\": 'ChatGPT', 'рік': 2022, 'мови': ['Python', 'JavaScript']}\nМої улюблені мови програмування: ['Python', 'JavaScript']\nВідпочивайте!\nЦе ітерація номер 1\nЦе ітерація номер 2\nЦе ітерація номер 3\nПривіт, Користувач!\n",
          "output_type": "stream"
        }
      ],
      "execution_count": 2
    },
    {
      "cell_type": "code",
      "source": "",
      "metadata": {
        "trusted": true
      },
      "outputs": [],
      "execution_count": null
    }
  ]
}